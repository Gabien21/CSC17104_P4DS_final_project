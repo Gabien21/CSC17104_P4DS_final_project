{
 "cells": [
  {
   "cell_type": "markdown",
   "metadata": {},
   "source": [
    "<div style=\"text-align: center; background-color: #0A6EBD; font-family: 'Trebuchet MS', Arial, sans-serif; color: white; padding: 20px; font-size: 40px; font-weight: bold; border-radius: 0 0 0 0; box-shadow: 0px 6px 8px rgba(0, 0, 0, 0.2);\">\n",
    "    FIT-HCMUS, VNU-HCM \n",
    "    <br>\n",
    "    Lập trình cho khoa học dữ liệu \n",
    "    <br>\n",
    "    Đồ án cuối kỳ 📌\n",
    "</div>"
   ]
  },
  {
   "cell_type": "markdown",
   "metadata": {},
   "source": [
    "<div style=\"text-align: center; background-color: #5A96E3; font-family: 'Trebuchet MS', Arial, sans-serif; color: white; padding: 20px; font-size: 40px; font-weight: bold; border-radius: 0 0 0 0; box-shadow: 0px 6px 8px rgba(0, 0, 0, 0.2);\">\n",
    "  Tự đánh giá và nguồn tham khảo 📌\n",
    "</div>"
   ]
  },
  {
   "cell_type": "markdown",
   "metadata": {},
   "source": [
    "# Tự đánh giá"
   ]
  },
  {
   "cell_type": "markdown",
   "metadata": {},
   "source": [
    "## Những khó khăn gặp phải"
   ]
  },
  {
   "cell_type": "markdown",
   "metadata": {},
   "source": [
    "### Lê Phước Thịnh Tiến - 21127700"
   ]
  },
  {
   "cell_type": "markdown",
   "metadata": {},
   "source": [
    "- Khó khăn trong việc xử lí dữ liệu với số lượng lớn các thuộc tính, dữ liệu khá nhiều outlier, mising value.\n",
    "- Khó khăn trong việc hiểu được ngữ cảnh của dữ liệu (dữ liệu có nguồn gốc khác với văn hóa của Việt Nam).\n",
    "- Thiếu kinh nghiệm trong việc sử dụng các thư viện như matplotlib, pandas, geopandas, sklearn,...\n",
    "- Thiếu kinh nghiệm trong việc sử dụng github, các công cụ hỗ trợ quản lí công việc như Trello."
   ]
  },
  {
   "cell_type": "markdown",
   "metadata": {},
   "source": [
    "### Phạm Khánh Toàn - 21127704"
   ]
  },
  {
   "cell_type": "markdown",
   "metadata": {},
   "source": [
    "- Khó khăn trong việc cùng nhau phân chia công việc sao cho hợp lí, đảm bảo đáp ứng được thời gian hoàn thành.\n",
    "- Khó khăn trong việc đưa ra các ý tưởng về các câu hỏi sao cho có ý nghĩa.\n",
    "- Thiếu kiến thức về machine learning trong việc xây dựng mô hình để trả lời câu hỏi đã đặt ra.\n",
    "- Giao tiếp với thành viên trong nhóm ban đầu còn gặp nhiều khó khăn."
   ]
  },
  {
   "cell_type": "markdown",
   "metadata": {},
   "source": [
    "## Những bài học đã học được"
   ]
  },
  {
   "cell_type": "markdown",
   "metadata": {},
   "source": [
    "### Lê Phước Thịnh Tiến - 21127700"
   ]
  },
  {
   "cell_type": "markdown",
   "metadata": {},
   "source": [
    "- Có thêm kỹ năng xử lý trên tập dữ liệu lớn, thực tế.\n",
    "- Biết thêm nhiều kiến thức, kỹ năng sử dụng các thư viện hỗ trợ việc trưc quan hóa dữ liệu.\n",
    "- Có thêm kỹ năng kiến thức trong việc quản lí mã nguồn bằng github, quản lí, theo dõi công việc của nhóm bằng trello."
   ]
  },
  {
   "cell_type": "markdown",
   "metadata": {},
   "source": [
    "### Phạm Khánh Toàn - 21127704"
   ]
  },
  {
   "cell_type": "markdown",
   "metadata": {},
   "source": [
    "- Có thêm kinh nghiệm, kỹ năng giao tiếp với thành viên trong nhóm (xác định lịch hẹn, họp nhóm hàng tuần để có thể trao đổi những khó khăn, công việc trong quá trình thực hiện đồ án)\n",
    "- Có thêm kiến thức về các mô hình machine learning, trainning model, cross-validation,...\n",
    "- Có thêm kiến thức, kinh nghiệm sử dụng github, trello.\n",
    "- Có thêm kinh nghiệm trong việc xác định khối lượng công việc để phân công, giao thời hạn hoàn thành sao cho hợp lí."
   ]
  },
  {
   "cell_type": "markdown",
   "metadata": {},
   "source": [
    "## Nếu có thêm thời gian, bạn sẽ làm gì?"
   ]
  },
  {
   "cell_type": "markdown",
   "metadata": {},
   "source": [
    "- Dành nhiều thời gian hơn để tìm hiểu thêm nhiều cách phân tích, xử lí dữ liệu (các cách để chuyển đổi dữ liệu, kiến thức về phân phối của dữ liệu,...)\n",
    "- Sẽ tìm thêm các thư viện mới, hỗ trợ việc trực quan hóa dữ liệu một cách tốt hơn.\n",
    "- Tìm thêm các mô hình khác để có thể đưa ra kết quả dự đoán một cách tốt hơn.\n",
    "- Suy nghĩ ra những câu hỏi mang nhiều ý nghĩa thực tiễn hơn.\n"
   ]
  },
  {
   "cell_type": "markdown",
   "metadata": {},
   "source": [
    "# Nguồn tham khảo"
   ]
  },
  {
   "cell_type": "markdown",
   "metadata": {},
   "source": []
  }
 ],
 "metadata": {
  "language_info": {
   "name": "python"
  }
 },
 "nbformat": 4,
 "nbformat_minor": 2
}
