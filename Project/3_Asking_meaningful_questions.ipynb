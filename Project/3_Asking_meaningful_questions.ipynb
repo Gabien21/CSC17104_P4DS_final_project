{
 "cells": [
  {
   "cell_type": "markdown",
   "metadata": {},
   "source": [
    "# Phase 3: Asking meaningful questions"
   ]
  },
  {
   "cell_type": "code",
   "execution_count": 1,
   "metadata": {},
   "outputs": [],
   "source": [
    "import pandas as pd\n",
    "import seaborn as sns\n",
    "import numpy as np  \n",
    "import matplotlib.pyplot as plt\n",
    "import os\n",
    "from sklearn.linear_model import LinearRegression\n",
    "from sklearn import metrics\n",
    "from sklearn.metrics import r2_score\n",
    "from sklearn.model_selection import train_test_split "
   ]
  },
  {
   "cell_type": "markdown",
   "metadata": {},
   "source": [
    "## Question 1:"
   ]
  },
  {
   "cell_type": "markdown",
   "metadata": {},
   "source": [
    "### Question:\n",
    "- Câu hỏi: Sự phân bố của các căn hộ air bnb như thế nào?.\n",
    "- Trả lời được câu hỏi này sẽ giúp ta thấy được sự tình hình nhà ở theo từng khu vực. Từ đó, có thể thấy được đâu là trung tâm, hay đâu là khu vực tiềm năng để có thể đầu tư.\n",
    "- Cách trả lời: dựa vào longtitude và latitude."
   ]
  },
  {
   "cell_type": "markdown",
   "metadata": {},
   "source": [
    "## Question 2:"
   ]
  },
  {
   "cell_type": "markdown",
   "metadata": {},
   "source": [
    "### Question:\n",
    "- Câu hỏi: Giá phòng theo từng khu vực được phân bổ như thế nào?\n",
    "- Trả lời được câu hỏi này sẽ giúp người đặt phòng biết được tình hình giá phòng ở từng khu vực, hơn nữa chủ các khách sạn có thể dựa trên số liệu này để quyết định giá cho khách sạn của mình.\n",
    "- Cách trả lời: dựa trên longtitude, latitude, price."
   ]
  },
  {
   "cell_type": "markdown",
   "metadata": {},
   "source": [
    "## Question 3:"
   ]
  },
  {
   "cell_type": "markdown",
   "metadata": {},
   "source": [
    "### Question:\n",
    "- Câu hỏi: Nhóm đối tượng khách hàng hướng đến căn hộ luxury (giá trên 1000$ và thời hạn thuê ít hơn trong 2 ngày) thì nên thuê ở khu vực nào?\n",
    "- Trả lời câu hỏi này giúp được khách hàng so sánh mức giá, số lượng đánh giá cũng như giúp đưa ra quyết định thuê một khu vực được phân tích.\n",
    "- Phân tích dữ liệu."
   ]
  },
  {
   "cell_type": "markdown",
   "metadata": {},
   "source": [
    "## Question 4:"
   ]
  },
  {
   "cell_type": "markdown",
   "metadata": {},
   "source": [
    "### Question:\n",
    "- Câu hỏi: Hệ thống dự đoán giá phòng.\n",
    "- Trả lời được câu hỏi này sẽ giúp người đặt phòng dự đoán được giá của căn hộ mình cần thuê, cũng như giúp chủ các căn hộ đưa ra mức giá phù hợp cho căn hộ của mình.\n",
    "- Cách trả lời: Xây dựng mô hình Linear Regression."
   ]
  }
 ],
 "metadata": {
  "kernelspec": {
   "display_name": "Python 3",
   "language": "python",
   "name": "python3"
  },
  "language_info": {
   "codemirror_mode": {
    "name": "ipython",
    "version": 3
   },
   "file_extension": ".py",
   "mimetype": "text/x-python",
   "name": "python",
   "nbconvert_exporter": "python",
   "pygments_lexer": "ipython3",
   "version": "3.11.1"
  }
 },
 "nbformat": 4,
 "nbformat_minor": 2
}
