{
 "cells": [
  {
   "cell_type": "markdown",
   "metadata": {},
   "source": [
    "# Phase 1: Collecting Data"
   ]
  },
  {
   "cell_type": "markdown",
   "metadata": {},
   "source": [
    "## Question 1: \n",
    "What subject is your data about? What is the source of your data?"
   ]
  },
  {
   "cell_type": "markdown",
   "metadata": {},
   "source": [
    "The dataset includes all needed information to find out more about hosts, geographical availability, necessary metrics to make predictions and draw conclusions.The dataset is from website [AirBnb](http://insideairbnb.com/)"
   ]
  },
  {
   "cell_type": "markdown",
   "metadata": {},
   "source": [
    "## Question 2:\n",
    "Do authors of this data allow you to use like this? You can check the data license"
   ]
  },
  {
   "cell_type": "markdown",
   "metadata": {},
   "source": [
    "License : [CC0:Public Domain](https://creativecommons.org/publicdomain/zero/1.0/)\n",
    "\n",
    "Author : [DGOMONOV](https://www.kaggle.com/dgomonov)"
   ]
  },
  {
   "cell_type": "markdown",
   "metadata": {},
   "source": [
    "## Question 3:\n",
    "How did authors collect data?"
   ]
  },
  {
   "cell_type": "markdown",
   "metadata": {},
   "source": [
    "The dataset is from website [AirBnb](http://insideairbnb.com/)"
   ]
  }
 ],
 "metadata": {
  "language_info": {
   "name": "python"
  }
 },
 "nbformat": 4,
 "nbformat_minor": 2
}
