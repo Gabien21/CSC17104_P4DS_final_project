{
 "cells": [
  {
   "cell_type": "markdown",
   "metadata": {},
   "source": [
    "<div style=\"text-align: center; background-color: #0A6EBD; font-family: 'Trebuchet MS', Arial, sans-serif; color: white; padding: 20px; font-size: 40px; font-weight: bold; border-radius: 0 0 0 0; box-shadow: 0px 6px 8px rgba(0, 0, 0, 0.2);\">\n",
    "    FIT-HCMUS, VNU-HCM \n",
    "    <br>\n",
    "    Lập trình cho khoa học dữ liệu \n",
    "    <br>\n",
    "    Đồ án cuối kỳ 📌\n",
    "</div>"
   ]
  },
  {
   "cell_type": "markdown",
   "metadata": {},
   "source": [
    "<div style=\"text-align: center; background-color: #5A96E3; font-family: 'Trebuchet MS', Arial, sans-serif; color: white; padding: 20px; font-size: 40px; font-weight: bold; border-radius: 0 0 0 0; box-shadow: 0px 6px 8px rgba(0, 0, 0, 0.2);\">\n",
    "  Thông tin về tập dữ liệu 📌\n",
    "</div>"
   ]
  },
  {
   "cell_type": "markdown",
   "metadata": {},
   "source": [
    "# Dữ liệu của đề cập đến chủ đề gì? Nguồn gốc của dữ liệu?"
   ]
  },
  {
   "cell_type": "markdown",
   "metadata": {},
   "source": [
    "Từ năm 2008, du khách và chủ của các căn hộ, khách sạn đã sử dụng Airbnb để mở rộng khả năng du lịch và kinh doanh. Hiện nay, Airbnb đã trở thành một dịch vụ được sử dụng phổ biến nhất và nổi tiếng trên toàn thế giới.\n",
    "\n",
    "Các công ty có thể sử dụng tập dữ liệu về Airbnb để phân tích và đưa ra quyết định trong kinh doan, đầu tư, phân tích hành vi khách hàng.\n",
    "\n",
    "Tập dữ liệu `New York City Airbnb Open Data` được lấy từ [website](http://insideairbnb.com/)"
   ]
  },
  {
   "cell_type": "markdown",
   "metadata": {},
   "source": [
    "# Những tác giả của tập dữ liệu này có cho phép bạn sử dụng không? "
   ]
  },
  {
   "cell_type": "markdown",
   "metadata": {},
   "source": [
    "License : [CC0:Public Domain](https://creativecommons.org/publicdomain/zero/1.0/)\n",
    "\n",
    "`CC0 (Creative Commons Zero):` cho phép mọi người tự do sử dụng, chia sẻ và sửa đổi tập dữ liệu mà không cần phải yêu cầu sự cho phép hay chia sẻ nguồn gốc. Từ đó, giúp tạo điều kiện thuận lợi cho việc sử dụng và chia sẻ thông tin mà không gặp các ràng buộc pháp lý nặng nề. \n",
    "\n",
    "Tác giả : [DGOMONOV](https://www.kaggle.com/dgomonov)"
   ]
  },
  {
   "cell_type": "markdown",
   "metadata": {},
   "source": [
    "# Tác giả đã thu thập dữ liệu như thế nào?"
   ]
  },
  {
   "cell_type": "markdown",
   "metadata": {},
   "source": [
    "Tập dữ liệu `New York City Airbnb Open Data` được lấy từ [website](http://insideairbnb.com/)"
   ]
  }
 ],
 "metadata": {
  "language_info": {
   "name": "python"
  }
 },
 "nbformat": 4,
 "nbformat_minor": 2
}
