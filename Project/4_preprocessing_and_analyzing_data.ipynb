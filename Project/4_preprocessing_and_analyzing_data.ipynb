{
 "cells": [
  {
   "cell_type": "markdown",
   "metadata": {},
   "source": [
    "# Phase 4: Preprocessing and analyzing data to answer each question"
   ]
  },
  {
   "cell_type": "markdown",
   "metadata": {},
   "source": [
    "- With each question:\n",
    "    - Does it need to have preprocessing step, and if yes, how does your group preprocess?\n",
    "        - Text: sketch steps clearly so that readers can understand how your group preprocesses even without reading code\n",
    "        - Code: implement sketched steps. Your group should also try\n",
    "to write code clearly (choose good variable names, comment where should be commented, don’t let a line too long)\n",
    "    - How does your group analyze data to answer\n",
    "the question?\n",
    "        - Text: similar to above\n",
    "        - Code: similar to above"
   ]
  }
 ],
 "metadata": {
  "language_info": {
   "name": "python"
  }
 },
 "nbformat": 4,
 "nbformat_minor": 2
}
