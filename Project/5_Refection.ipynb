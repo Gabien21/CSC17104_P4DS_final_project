{
 "cells": [
  {
   "cell_type": "code",
   "execution_count": null,
   "metadata": {},
   "outputs": [],
   "source": []
  },
  {
   "cell_type": "markdown",
   "metadata": {},
   "source": [
    "- Each member: What difficulties have you\n",
    "encountered?\n",
    "- Each member: What have you learned?\n",
    "- Your group: If you had more time, what\n",
    "would you do?"
   ]
  }
 ],
 "metadata": {
  "language_info": {
   "name": "python"
  }
 },
 "nbformat": 4,
 "nbformat_minor": 2
}
